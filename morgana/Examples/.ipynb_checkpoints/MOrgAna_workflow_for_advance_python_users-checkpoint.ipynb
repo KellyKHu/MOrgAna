{
 "cells": [
  {
   "cell_type": "markdown",
   "metadata": {},
   "source": [
    "# MOrgAna workflow for advance python users\n",
    "This workflow is intended for users with programming background to analyse multiple image folders at once. Users can also use this notebook to select and adapt modules/functions specific to their purpose. This workflow follows the order of scripts in python_example_scripts and explains the code shown in the scripts in more detail."
   ]
  },
  {
   "cell_type": "markdown",
   "metadata": {},
   "source": [
    "## Generate Masks\n",
    "\n",
    "### 01_create_model_folder.py\n",
    "The following code chooses images from the acquired dataset to form the training dataset for the generation of the model."
   ]
  },
  {
   "cell_type": "code",
   "execution_count": 1,
   "metadata": {},
   "outputs": [],
   "source": [
    "import os, glob, shutil\n",
    "from tqdm.notebook import tqdm\n",
    "import numpy as np\n",
    "from numpy.random import default_rng"
   ]
  },
  {
   "cell_type": "code",
   "execution_count": 2,
   "metadata": {},
   "outputs": [
    {
     "name": "stdout",
     "output_type": "stream",
     "text": [
      "Image subfolders found in: Y:\\Jia_Le_Lim\\morgana_example_datasets\\gastruloids\\condA\n",
      "Path exists! Proceed!\n"
     ]
    }
   ],
   "source": [
    "# select folder containing all image folders to be analysed\n",
    "# parent_folder = os.path.join('test_data','2020-09-22_conditions')\n",
    "parent_folder = os.path.join('/','Users','jialelim', 'Desktop', 'example_dataset_ipynb', 'condB')\n",
    "parent_folder = os.path.join('Y:',os.sep,'Jia_Le_Lim','morgana_example_datasets','gastruloids','condA')\n",
    "\n",
    "print('Image subfolders found in: ' + parent_folder)\n",
    "if os.path.exists(parent_folder):\n",
    "    print('Path exists! Proceed!')# check if the path exists"
   ]
  },
  {
   "cell_type": "code",
   "execution_count": 3,
   "metadata": {},
   "outputs": [],
   "source": [
    "# select images for training dataset\n",
    "start = 0 # increase value to exclude starting images in dataset\n",
    "dN = 0 # every dNth image will be used for the training dataset; if dN = 0, random images are taken\n",
    "\n",
    "# True: create one model for all folders; False: create one model for each image subfolder\n",
    "combine_subfolders = True\n",
    "   \n",
    "# add folders that you want to ignore here\n",
    "exclude_folder = ['model_']"
   ]
  },
  {
   "cell_type": "code",
   "execution_count": 4,
   "metadata": {},
   "outputs": [],
   "source": [
    "def initialize_model_folder(folder, dN=30, start=0, combine=True):\n",
    "    \n",
    "    # create folders\n",
    "    if combine:\n",
    "        model_folder = os.path.join(os.path.split(folder)[0],'model_')\n",
    "    else:\n",
    "        model_folder = os.path.join(os.path.split(folder)[0], 'model_' + os.path.split(folder)[1])\n",
    "\n",
    "    if not os.path.exists(model_folder):\n",
    "        os.mkdir(model_folder)\n",
    "        \n",
    "    trainingset_folder = os.path.join(model_folder,'trainingset')\n",
    "    if not os.path.exists(trainingset_folder):\n",
    "        os.mkdir(trainingset_folder)\n",
    "\n",
    "    # count images and extract trainingset file names\n",
    "    flist = glob.glob(os.path.join(folder,'*.tif'))\n",
    "    flist.sort()\n",
    "    if dN:\n",
    "        flist = flist[start::dN]\n",
    "    else: \n",
    "        rng = default_rng()\n",
    "        random_choice = rng.choice(len(flist), size=np.clip(len(flist)//10, 1, None), replace=False)\n",
    "        flist = [flist[i] for i in random_choice]\n",
    "\n",
    "    \n",
    "    # copy images to trainingset folder\n",
    "    for f in flist:\n",
    "        fname = os.path.split(folder)[1] + '_' + os.path.split(f)[-1]\n",
    "        newf = os.path.join(trainingset_folder,fname)\n",
    "        if not os.path.exists(newf):\n",
    "            shutil.copy(f,newf)"
   ]
  },
  {
   "cell_type": "code",
   "execution_count": 5,
   "metadata": {
    "scrolled": true
   },
   "outputs": [],
   "source": [
    "# # compute parent folder as absolute path\n",
    "# parent_folder = os.path.abspath(parent_folder)\n",
    "    \n",
    "# # find out all image subfolders in parent_folder\n",
    "# folder_names = next(os.walk(parent_folder))[1] \n",
    "    \n",
    "# # exclude folders in exclude_folder\n",
    "# folder_names = [g for g in folder_names if not g in exclude_folder ]\n",
    "\n",
    "# for folder_name in tqdm(folder_names):\n",
    "#     if not folder_name in exclude_folder:\n",
    "#         folder_path = os.path.join(parent_folder, folder_name)\n",
    "\n",
    "#         # for the parent_folder/every image subfolder, generate model folder and the trainingset\n",
    "#         initialize_model_folder(folder_path, dN=dN, start=start, combine=combine_subfolders)"
   ]
  },
  {
   "cell_type": "markdown",
   "metadata": {},
   "source": [
    "### 02_create_ground_truth.py\n",
    "This script creates the binary masks (ground truths) for images copied into the trainingset folder."
   ]
  },
  {
   "cell_type": "code",
   "execution_count": 6,
   "metadata": {},
   "outputs": [],
   "source": [
    "from morgana.GUIs.manualmask import makeManualMask\n",
    "from morgana.DatasetTools import io"
   ]
  },
  {
   "cell_type": "code",
   "execution_count": 7,
   "metadata": {},
   "outputs": [],
   "source": [
    "import PyQt5.QtWidgets\n",
    "import sys"
   ]
  },
  {
   "cell_type": "code",
   "execution_count": 8,
   "metadata": {},
   "outputs": [],
   "source": [
    "def create_GT_mask(model_folder, app):\n",
    "    \n",
    "    ### check that model and trainingset exist\n",
    "    if not os.path.exists(model_folder):\n",
    "        print('Warning!')\n",
    "        print(model_folder,':')\n",
    "        print('Model folder not created! Skipping this subfolder.')\n",
    "        return\n",
    "        \n",
    "    trainingset_folder = os.path.join(model_folder,'trainingset')\n",
    "    if not os.path.exists(trainingset_folder):\n",
    "        print('Warning!')\n",
    "        print(model_folder,':')\n",
    "        print('Trainingset images not found! Skipping this subfolder.')\n",
    "        return\n",
    "\n",
    "    ### load trainingset images and previously generated ground truth    \n",
    "    flist_in = io.get_image_list(trainingset_folder, string_filter='_GT', mode_filter='exclude')\n",
    "    flist_in.sort()\n",
    "    flist_gt = io.get_image_list(trainingset_folder, string_filter='_GT', mode_filter='include')\n",
    "    flist_gt.sort()\n",
    "\n",
    "    ### if no trainingset images in the folder, skip this gastruloid\n",
    "    if len(flist_in) == 0:\n",
    "        print('\\n\\nWarning, no trainingset!','Selected \"'+model_folder+'\" but no trainingset *data* detected. Transfer some images in the \"trainingset\" folder.')\n",
    "        return\n",
    "    \n",
    "    ### if there are more trainingset than ground truth, promptuse to make mask\n",
    "    if len(flist_in)!=len(flist_gt):\n",
    "        print('\\n\\nWarning, trainingset incomplete!','Selected \"'+model_folder+'\" but not all masks have been created.\\nPlease provide manually annotated masks.')\n",
    "\n",
    "        for f in flist_in:\n",
    "            fn,ext = os.path.splitext(f)\n",
    "            mask_name = fn+'_GT'+ext\n",
    "\n",
    "            \n",
    "            \n",
    "            if not os.path.exists(mask_name):\n",
    "                if not PyQt5.QtWidgets.QApplication.instance():\n",
    "                    app = PyQt5.QtWidgets.QApplication(sys.argv)\n",
    "                else:\n",
    "                    app = PyQt5.QtWidgets.QApplication.instance() \n",
    "                m = makeManualMask(f,subfolder='',fn=fn+'_GT'+ext,wsize = (2000,2000))\n",
    "                m.show()\n",
    "                app.exec_()\n"
   ]
  },
  {
   "cell_type": "code",
   "execution_count": 9,
   "metadata": {},
   "outputs": [
    {
     "data": {
      "application/vnd.jupyter.widget-view+json": {
       "model_id": "4afb7a2a205f4c89a261b0b028f85a5e",
       "version_major": 2,
       "version_minor": 0
      },
      "text/plain": [
       "  0%|          | 0/1 [00:00<?, ?it/s]"
      ]
     },
     "metadata": {},
     "output_type": "display_data"
    },
    {
     "name": "stdout",
     "output_type": "stream",
     "text": [
      "Y:\\Jia_Le_Lim\\morgana_example_datasets\\gastruloids\\condA\\model_\n",
      "\n",
      "\n",
      "Warning, trainingset incomplete! Selected \"Y:\\Jia_Le_Lim\\morgana_example_datasets\\gastruloids\\condA\\model_\" but not all masks have been created.\n",
      "Please provide manually annotated masks.\n",
      "Y:\\Jia_Le_Lim\\morgana_example_datasets\\gastruloids\\condA\\model_\\trainingset\\condA_120h_03G.tif\n",
      "Done with Y:\\Jia_Le_Lim\\morgana_example_datasets\\gastruloids\\condA\\model_\\trainingset\\condA_120h_03G.tif\n",
      "Y:\\Jia_Le_Lim\\morgana_example_datasets\\gastruloids\\condA\\model_\\trainingset\\condA_120h_03H.tif\n",
      "Done with Y:\\Jia_Le_Lim\\morgana_example_datasets\\gastruloids\\condA\\model_\\trainingset\\condA_120h_03H.tif\n",
      "Quitting\n"
     ]
    }
   ],
   "source": [
    "model_folders = glob.glob(os.path.join(parent_folder,'model_*'))\n",
    "\n",
    "### compute parent folder as absolute path\n",
    "model_folders = [os.path.abspath(i) for i in model_folders]\n",
    "\n",
    "app = PyQt5.QtWidgets.QApplication(sys.argv)\n",
    "\n",
    "for model_folder in tqdm(model_folders):\n",
    "    create_GT_mask(model_folder, app)\n",
    "\n",
    "app.quit()"
   ]
  },
  {
   "cell_type": "code",
   "execution_count": null,
   "metadata": {},
   "outputs": [],
   "source": []
  }
 ],
 "metadata": {
  "kernelspec": {
   "display_name": "Python 3",
   "language": "python",
   "name": "python3"
  },
  "language_info": {
   "codemirror_mode": {
    "name": "ipython",
    "version": 3
   },
   "file_extension": ".py",
   "mimetype": "text/x-python",
   "name": "python",
   "nbconvert_exporter": "python",
   "pygments_lexer": "ipython3",
   "version": "3.8.6"
  }
 },
 "nbformat": 4,
 "nbformat_minor": 4
}

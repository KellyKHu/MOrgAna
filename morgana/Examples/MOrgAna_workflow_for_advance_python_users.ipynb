{
 "cells": [
  {
   "cell_type": "markdown",
   "metadata": {},
   "source": [
    "# MOrgAna workflow for advance python users\n",
    "This workflow is intended for users with programming background to analyse multiple image folders at once. Users can also use this notebook to select and adapt modules/functions specific to their purpose. This workflow follows the order of scripts in python_example_scripts and explains the code shown in the scripts in more detail."
   ]
  },
  {
   "cell_type": "markdown",
   "metadata": {},
   "source": [
    "## Generate Masks\n",
    "\n",
    "### 01_create_model_folder.py\n",
    "The following code chooses images from the acquired dataset to form the training dataset for the generation of the model."
   ]
  },
  {
   "cell_type": "code",
   "execution_count": 1,
   "metadata": {},
   "outputs": [],
   "source": [
    "# import packages required\n",
    "import os, glob, shutil\n",
    "from tqdm.notebook import tqdm\n",
    "import numpy as np\n",
    "from numpy.random import default_rng"
   ]
  },
  {
   "cell_type": "code",
   "execution_count": 2,
   "metadata": {},
   "outputs": [
    {
     "name": "stdout",
     "output_type": "stream",
     "text": [
      "Image subfolders found in: /Users/jialelim/Desktop/example_dataset_ipynb/condB\n",
      "Path exists! Proceed!\n"
     ]
    }
   ],
   "source": [
    "# select folder containing all image folders to be analysed\n",
    "# parent_folder = os.path.join('test_data','2020-09-22_conditions')\n",
    "parent_folder = os.path.join('/','Users','jialelim', 'Desktop', 'example_dataset_ipynb', 'condB')\n",
    "print('Image subfolders found in: ' + parent_folder)\n",
    "if os.path.exists(parent_folder):\n",
    "    print('Path exists! Proceed!')# check if the path exists"
   ]
  },
  {
   "cell_type": "code",
   "execution_count": 3,
   "metadata": {},
   "outputs": [],
   "source": [
    "# select images for training dataset\n",
    "start = 0\n",
    "dN = 0 # every dNth image will be used for the training dataset; if dN = 0, random images are taken\n",
    "\n",
    "# True: create one model for all folders; False: create one model for each image subfolder\n",
    "combine_subfolders = True\n",
    "   \n",
    "# add folders that you want to ignore here\n",
    "exclude_folder = ['model_']"
   ]
  },
  {
   "cell_type": "code",
   "execution_count": 4,
   "metadata": {},
   "outputs": [],
   "source": [
    "def initialize_model_folder(folder, dN=30, start=0, combine=True):\n",
    "    \n",
    "    ### create folders\n",
    "    if combine:\n",
    "        model_folder = os.path.join(os.path.split(folder)[0],'model_')\n",
    "    else:\n",
    "        model_folder = os.path.join(os.path.split(folder)[0], 'model_' + os.path.split(folder)[1])\n",
    "\n",
    "    if not os.path.exists(model_folder):\n",
    "        os.mkdir(model_folder)\n",
    "        \n",
    "    trainingset_folder = os.path.join(model_folder,'trainingset')\n",
    "    if not os.path.exists(trainingset_folder):\n",
    "        os.mkdir(trainingset_folder)\n",
    "    \n",
    "    ### count images and extract trainingset file names\n",
    "    flist = glob.glob(os.path.join(folder,'*.tif'))\n",
    "    flist.sort()\n",
    "    if dN:\n",
    "        flist = flist[start::dN]\n",
    "    else: \n",
    "        rng = default_rng()\n",
    "        random_choice = rng.choice(len(flist), size=np.clip(len(flist)//10, 1, None), replace=False)\n",
    "        flist = [flist[i] for i in random_choice]\n",
    "\n",
    "    \n",
    "    ### copy images to trainingset folder\n",
    "    for f in flist:\n",
    "        fname = os.path.split(folder)[1] + '_' + os.path.split(f)[-1]\n",
    "        newf = os.path.join(trainingset_folder,fname)\n",
    "        if not os.path.exists(newf):\n",
    "            shutil.copy(f,newf)"
   ]
  },
  {
   "cell_type": "code",
   "execution_count": 5,
   "metadata": {
    "scrolled": true
   },
   "outputs": [
    {
     "data": {
      "application/vnd.jupyter.widget-view+json": {
       "model_id": "541d5df6019a41019368a905c05784bc",
       "version_major": 2,
       "version_minor": 0
      },
      "text/plain": [
       "HBox(children=(HTML(value=''), FloatProgress(value=0.0, max=4.0), HTML(value='')))"
      ]
     },
     "metadata": {},
     "output_type": "display_data"
    },
    {
     "name": "stdout",
     "output_type": "stream",
     "text": [
      "\n"
     ]
    }
   ],
   "source": [
    "\n",
    "\n",
    "    ### compute parent folder as absolute path\n",
    "    parent_folder = os.path.abspath(parent_folder)\n",
    "    \n",
    "    ### find out all image subfolders in parent_folder\n",
    "    folder_names = next(os.walk(parent_folder))[1] \n",
    "    \n",
    "    ### exclude folders in exclude_folder\n",
    "    folder_names = [g for g in folder_names if not g in exclude_folder ]\n",
    "\n",
    "    for folder_name in tqdm(folder_names):\n",
    "        if not folder_name in exclude_folder:\n",
    "            folder_path = os.path.join(parent_folder, folder_name)\n",
    "\n",
    "            ### for every gastruloid, generate model folder and the trainingset\n",
    "            initialize_model_folder(folder_path, dN=dN, start=start, combine=combine_subfolders)"
   ]
  },
  {
   "cell_type": "code",
   "execution_count": null,
   "metadata": {},
   "outputs": [],
   "source": []
  },
  {
   "cell_type": "code",
   "execution_count": null,
   "metadata": {},
   "outputs": [],
   "source": []
  },
  {
   "cell_type": "code",
   "execution_count": null,
   "metadata": {},
   "outputs": [],
   "source": []
  },
  {
   "cell_type": "code",
   "execution_count": null,
   "metadata": {},
   "outputs": [],
   "source": []
  }
 ],
 "metadata": {
  "kernelspec": {
   "display_name": "Python 3",
   "language": "python",
   "name": "python3"
  },
  "language_info": {
   "codemirror_mode": {
    "name": "ipython",
    "version": 3
   },
   "file_extension": ".py",
   "mimetype": "text/x-python",
   "name": "python",
   "nbconvert_exporter": "python",
   "pygments_lexer": "ipython3",
   "version": "3.8.5"
  }
 },
 "nbformat": 4,
 "nbformat_minor": 4
}
